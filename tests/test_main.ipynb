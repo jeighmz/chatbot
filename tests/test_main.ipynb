{
 "cells": [
  {
   "cell_type": "code",
   "execution_count": 16,
   "metadata": {},
   "outputs": [
    {
     "name": "stdout",
     "output_type": "stream",
     "text": [
      "Gradient of a: tensor([[-2.3642,  0.0178],\n",
      "        [-2.3642,  0.0178]])\n"
     ]
    }
   ],
   "source": [
    "import torch\n",
    "\n",
    "# Exercise 1: Creating Tensors\n",
    "ones_tensor = torch.ones((3, 3))\n",
    "zeros_tensor = torch.zeros((3, 3))\n",
    "\n",
    "# Exercise 2: Basic Operations\n",
    "added_tensors = ones_tensor + zeros_tensor\n",
    "multiplied_tensors = ones_tensor * zeros_tensor\n",
    "\n",
    "# Exercise 3: Reshaping Tensors\n",
    "reshaped_tensor = added_tensors.view(1, 9)\n",
    "\n",
    "# Exercise 4: Computing Gradients\n",
    "a = torch.randn(2, 2, requires_grad=True)\n",
    "b = torch.randn(2, 2)\n",
    "dot_product = torch.matmul(a, b)\n",
    "\n",
    "# Compute gradients\n",
    "dot_product.backward(torch.ones_like(dot_product))\n",
    "print(\"Gradient of a:\", a.grad)"
   ]
  },
  {
   "cell_type": "code",
   "execution_count": 19,
   "metadata": {},
   "outputs": [
    {
     "name": "stdout",
     "output_type": "stream",
     "text": [
      "What an exciting challenge! To create a company that reaches a valuation of $1 trillion in under 10 years, I'd focus on the following strategy:\n",
      "\n",
      "**Company Name:** Aurora\n",
      "\n",
      "**Industry:** Renewable Energy & Advanced Materials\n",
      "\n",
      "**Mission:** Revolutionize the way we harness and utilize energy, while developing cutting-edge materials to accelerate global sustainability.\n",
      "\n",
      "**Business Model:**\n",
      "\n",
      "Aurora will operate as a conglomerate with three main pillars:\n",
      "\n",
      "1. **Solar Energy Generation**: Develop and deploy highly efficient solar panels using advanced Bifacial technology, allowing for increased power output without additional land usage.\n",
      "2. **Advanced Materials Manufacturing**: Create innovative materials (e.g., graphene, nanomaterials) for various industries, such as energy storage, aerospace, and consumer electronics.\n",
      "3. **E-Mobility & Infrastructure**: Develop electric vehicle (EV) batteries, charging infrastructure, and mobility-as-a-service platforms to accelerate the adoption of EVs.\n",
      "\n",
      "**Key Strategies:**\n",
      "\n",
      "1. **Scalable Innovation**: Continuously invest in R&D, leveraging AI-driven design tools and partnerships with top universities/research institutions.\n",
      "2. **Global Expansion**: Establish a presence in key markets (US, Europe, Asia) through strategic acquisitions, partnerships, and local production.\n",
      "3. **Partnerships & Collaborations**: Foster relationships with governments, industries, and other leading companies to drive adoption, share knowledge, and create new business opportunities.\n",
      "4. **Customer-Centric Approach**: Develop a robust ecosystem of products and services tailored to meet the needs of residential, commercial, and industrial customers.\n",
      "5. **Diversified Revenue Streams**: Diversify revenue through various channels, such as:\n",
      "\t* Product sales (solar panels, materials, EV batteries)\n",
      "\t* Service offerings (energy storage solutions, charging infrastructure)\n",
      "\t* Subscription-based models (E-Mobility services)\n",
      "\n",
      "**Financial Projections:**\n",
      "\n",
      "1. **Year 1-3**: Establish a strong foundation with $100M in revenue, 50% growth YoY.\n",
      "2. **Year 4-6**: Scale up to $500M in revenue, expanding into new markets and product lines.\n",
      "3. **Year 7-9**: Achieve $1B in revenue, solidifying market leadership and preparing for the next phase of expansion.\n",
      "\n",
      "**Traction & Milestones:**\n",
      "\n",
      "1. **Year 2**: Complete a successful Series A funding round ($50M) to fuel R&D and growth initiatives.\n",
      "2. **Year 4**: Announce partnerships with leading automakers and energy companies, solidifying Aurora's position in the E-Mobility space.\n",
      "3. **Year 6**: Achieve $1B in revenue, with a diversified portfolio of products and services.\n",
      "\n",
      "**Why it can hit $1T valuation:**\n",
      "\n",
      "Aurora will become a global leader in renewable energy and advanced materials, leveraging cutting-edge technology to drive innovation and growth. By diversifying revenue streams, expanding into new markets, and fostering strategic partnerships, Aurora will achieve an unprecedented level of scale and profitability.\n"
     ]
    }
   ],
   "source": [
    "from langchain_core.prompts import ChatPromptTemplate\n",
    "from langchain_ollama.llms import OllamaLLM\n",
    "import streamlit as st\n",
    "\n",
    "\n",
    "template = \"\"\"<system>You are an expert at solving problems. Any problem you got it. You must answer the question to the best of your ability</system>: \n",
    "        <question>\n",
    "            {question}\n",
    "        </question>\n",
    "\n",
    "\"\"\"\n",
    "\n",
    "prompt = ChatPromptTemplate.from_template(template)\n",
    "\n",
    "model = OllamaLLM(model=\"llama3.1\")\n",
    "\n",
    "chain = prompt | model\n",
    "\n",
    "question = input(\"Enter your question here\")\n",
    "if question: \n",
    "    print(chain.invoke({\"question\": question}))"
   ]
  },
  {
   "cell_type": "code",
   "execution_count": null,
   "metadata": {},
   "outputs": [],
   "source": []
  }
 ],
 "metadata": {
  "kernelspec": {
   "display_name": "venv",
   "language": "python",
   "name": "python3"
  },
  "language_info": {
   "codemirror_mode": {
    "name": "ipython",
    "version": 3
   },
   "file_extension": ".py",
   "mimetype": "text/x-python",
   "name": "python",
   "nbconvert_exporter": "python",
   "pygments_lexer": "ipython3",
   "version": "3.12.3"
  }
 },
 "nbformat": 4,
 "nbformat_minor": 2
}
