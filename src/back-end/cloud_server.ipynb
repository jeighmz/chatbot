{
 "cells": [
  {
   "cell_type": "code",
   "execution_count": 24,
   "metadata": {},
   "outputs": [],
   "source": [
    "from ibm_watsonx_ai.foundation_models import Model\n",
    "from ibm_watsonx_ai.metanames import GenTextParamsMetaNames as GenParams\n",
    "from ibm_watsonx_ai.foundation_models.utils.enums import ModelTypes, DecodingMethods\n",
    "from ibm_watsonx_ai import APIClient, Credentials\n",
    "\n",
    "\n",
    "from dotenv import load_dotenv\n",
    "import os\n",
    "load_dotenv()\n",
    "\n",
    "\n",
    "# Credentials\n",
    "api_key = os.getenv(\"IBM_CLOUD_API_KEY\")\n",
    "url = os.getenv(\"URL\")\n",
    "project_id = os.getenv(\"PROJECT_ID\")\n",
    "\n",
    "# To display example params enter\n",
    "GenParams().get_example_values()\n",
    "\n",
    "generate_params = {\n",
    "    GenParams.MAX_NEW_TOKENS: 200\n",
    "}\n",
    "\n",
    "model = Model(\n",
    "    model_id='meta-llama/llama-3-405b-instruct',\n",
    "    params=generate_params,\n",
    "    credentials=Credentials(\n",
    "                    api_key = api_key,\n",
    "                    url = url),\n",
    "    project_id=project_id\n",
    "    )"
   ]
  },
  {
   "cell_type": "code",
   "execution_count": 23,
   "metadata": {},
   "outputs": [
    {
     "name": "stdout",
     "output_type": "stream",
     "text": [
      "{'MT0_XXL': 'bigscience/mt0-xxl', 'CODELLAMA_34B_INSTRUCT_HF': 'codellama/codellama-34b-instruct-hf', 'FLAN_T5_XL': 'google/flan-t5-xl', 'FLAN_T5_XXL': 'google/flan-t5-xxl', 'FLAN_UL2': 'google/flan-ul2', 'MERLINITE_7B': 'ibm-mistralai/merlinite-7b', 'GRANITE_13B_CHAT_V2': 'ibm/granite-13b-chat-v2', 'GRANITE_13B_INSTRUCT_V2': 'ibm/granite-13b-instruct-v2', 'GRANITE_20B_CODE_INSTRUCT': 'ibm/granite-20b-code-instruct', 'GRANITE_20B_MULTILINGUAL': 'ibm/granite-20b-multilingual', 'GRANITE_34B_CODE_INSTRUCT': 'ibm/granite-34b-code-instruct', 'GRANITE_3B_CODE_INSTRUCT': 'ibm/granite-3b-code-instruct', 'GRANITE_7B_LAB': 'ibm/granite-7b-lab', 'GRANITE_8B_CODE_INSTRUCT': 'ibm/granite-8b-code-instruct', 'LLAMA_2_13B_CHAT': 'meta-llama/llama-2-13b-chat', 'LLAMA_2_70B_CHAT': 'meta-llama/llama-2-70b-chat', 'LLAMA_3_405B_INSTRUCT': 'meta-llama/llama-3-405b-instruct', 'LLAMA_3_70B_INSTRUCT': 'meta-llama/llama-3-70b-instruct', 'LLAMA_3_8B_INSTRUCT': 'meta-llama/llama-3-8b-instruct', 'MISTRAL_LARGE': 'mistralai/mistral-large', 'MIXTRAL_8X7B_INSTRUCT_V01': 'mistralai/mixtral-8x7b-instruct-v01'}\n"
     ]
    }
   ],
   "source": [
    "wx_client = APIClient(Credentials(api_key=api_key, url=url), project_id=project_id)\n",
    "\n",
    "available_models = wx_client.foundation_models.TextModels.show()\n",
    "# available_models = {'MT0_XXL': 'bigscience/mt0-xxl', 'CODELLAMA_34B_INSTRUCT_HF': 'codellama/codellama-34b-instruct-hf', 'FLAN_T5_XL': 'google/flan-t5-xl', 'FLAN_T5_XXL': 'google/flan-t5-xxl', 'FLAN_UL2': 'google/flan-ul2', 'MERLINITE_7B': 'ibm-mistralai/merlinite-7b', 'GRANITE_13B_CHAT_V2': 'ibm/granite-13b-chat-v2', 'GRANITE_13B_INSTRUCT_V2': 'ibm/granite-13b-instruct-v2', 'GRANITE_20B_CODE_INSTRUCT': 'ibm/granite-20b-code-instruct', 'GRANITE_20B_MULTILINGUAL': 'ibm/granite-20b-multilingual', 'GRANITE_34B_CODE_INSTRUCT': 'ibm/granite-34b-code-instruct', 'GRANITE_3B_CODE_INSTRUCT': 'ibm/granite-3b-code-instruct', 'GRANITE_7B_LAB': 'ibm/granite-7b-lab', 'GRANITE_8B_CODE_INSTRUCT': 'ibm/granite-8b-code-instruct', 'LLAMA_2_13B_CHAT': 'meta-llama/llama-2-13b-chat', 'LLAMA_2_70B_CHAT': 'meta-llama/llama-2-70b-chat', 'LLAMA_3_405B_INSTRUCT': 'meta-llama/llama-3-405b-instruct', 'LLAMA_3_70B_INSTRUCT': 'meta-llama/llama-3-70b-instruct', 'LLAMA_3_8B_INSTRUCT': 'meta-llama/llama-3-8b-instruct', 'MISTRAL_LARGE': 'mistralai/mistral-large', 'MIXTRAL_8X7B_INSTRUCT_V01': 'mistralai/mixtral-8x7b-instruct-v01'}"
   ]
  },
  {
   "cell_type": "code",
   "execution_count": 17,
   "metadata": {},
   "outputs": [
    {
     "data": {
      "text/plain": [
       "dict_keys(['MT0_XXL', 'CODELLAMA_34B_INSTRUCT_HF', 'FLAN_T5_XL', 'FLAN_T5_XXL', 'FLAN_UL2', 'MERLINITE_7B', 'GRANITE_13B_CHAT_V2', 'GRANITE_13B_INSTRUCT_V2', 'GRANITE_20B_CODE_INSTRUCT', 'GRANITE_20B_MULTILINGUAL', 'GRANITE_34B_CODE_INSTRUCT', 'GRANITE_3B_CODE_INSTRUCT', 'GRANITE_7B_LAB', 'GRANITE_8B_CODE_INSTRUCT', 'LLAMA_2_13B_CHAT', 'LLAMA_2_70B_CHAT', 'LLAMA_3_405B_INSTRUCT', 'LLAMA_3_70B_INSTRUCT', 'LLAMA_3_8B_INSTRUCT', 'MISTRAL_LARGE', 'MIXTRAL_8X7B_INSTRUCT_V01'])"
      ]
     },
     "execution_count": 17,
     "metadata": {},
     "output_type": "execute_result"
    }
   ],
   "source": [
    "# view all models\n",
    "available_models.keys()"
   ]
  },
  {
   "cell_type": "code",
   "execution_count": 25,
   "metadata": {},
   "outputs": [
    {
     "name": "stdout",
     "output_type": "stream",
     "text": [
      " Sweden has a rich and varied history that spans over 1,000 years. The country has been inhabited since the Stone Age, and its strategic location in Northern Europe has made it an important player in regional and global affairs. Here's a brief overview: Prehistory (Before 1000 AD): The first inhabitants of Sweden were hunter-gatherers who arrived around 12,000 years ago. The country was later inhabited by various tribes, including the Sami people, who still live in northern Sweden today. The Viking Age (1000-1100 AD): During the Viking Age, Sweden was a major power in Scandinavia, with Vikings from present-day Sweden raiding and trading throughout Europe. The Vikings also established settlements and trading posts in places like England, France, and Russia. Medieval Period (1100-1523 AD): In the 12th century, Sweden was unified under a single monarch, and the country became a major player in the Baltic Sea region. The Hanse\n"
     ]
    }
   ],
   "source": [
    "q= \"Tell me about the history of Sweden.\"\n",
    "generated_response = model.generate(prompt=q)\n",
    "print(generated_response['results'][0]['generated_text'])"
   ]
  }
 ],
 "metadata": {
  "kernelspec": {
   "display_name": "venv",
   "language": "python",
   "name": "python3"
  },
  "language_info": {
   "codemirror_mode": {
    "name": "ipython",
    "version": 3
   },
   "file_extension": ".py",
   "mimetype": "text/x-python",
   "name": "python",
   "nbconvert_exporter": "python",
   "pygments_lexer": "ipython3",
   "version": "3.12.3"
  }
 },
 "nbformat": 4,
 "nbformat_minor": 2
}
