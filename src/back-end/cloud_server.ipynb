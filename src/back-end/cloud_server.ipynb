{
 "cells": [
  {
   "cell_type": "code",
   "execution_count": 7,
   "metadata": {},
   "outputs": [],
   "source": [
    "from ibm_watsonx_ai.foundation_models import Model\n",
    "from ibm_watsonx_ai.metanames import GenTextParamsMetaNames as GenParams\n",
    "from ibm_watsonx_ai.foundation_models.utils.enums import ModelTypes, DecodingMethods\n",
    "from ibm_watsonx_ai import APIClient, Credentials\n",
    "\n",
    "\n",
    "from dotenv import load_dotenv\n",
    "import os\n",
    "load_dotenv()\n",
    "\n",
    "\n",
    "# Credentials\n",
    "api_key = os.getenv(\"IBM_CLOUD_API_KEY\")\n",
    "url = os.getenv(\"URL\")\n",
    "project_id = os.getenv(\"PROJECT_ID\")\n",
    "\n",
    "# To display example params enter\n",
    "GenParams().get_example_values()\n",
    "\n",
    "generate_params = {\n",
    "    GenParams.MAX_NEW_TOKENS: 25\n",
    "}\n",
    "\n",
    "model = Model(\n",
    "    model_id=ModelTypes.FLAN_UL2,\n",
    "    params=generate_params,\n",
    "    credentials=Credentials(\n",
    "                    api_key = api_key,\n",
    "                    url = url),\n",
    "    project_id=project_id\n",
    "    )"
   ]
  },
  {
   "cell_type": "code",
   "execution_count": 10,
   "metadata": {},
   "outputs": [
    {
     "name": "stdout",
     "output_type": "stream",
     "text": [
      "2\n"
     ]
    }
   ],
   "source": [
    "q= \"What is 1 + 1?\"\n",
    "generated_response = model.generate(prompt=q)\n",
    "print(generated_response['results'][0]['generated_text'])"
   ]
  }
 ],
 "metadata": {
  "kernelspec": {
   "display_name": "venv",
   "language": "python",
   "name": "python3"
  },
  "language_info": {
   "codemirror_mode": {
    "name": "ipython",
    "version": 3
   },
   "file_extension": ".py",
   "mimetype": "text/x-python",
   "name": "python",
   "nbconvert_exporter": "python",
   "pygments_lexer": "ipython3",
   "version": "3.12.3"
  }
 },
 "nbformat": 4,
 "nbformat_minor": 2
}
